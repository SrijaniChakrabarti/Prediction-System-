{
  "nbformat": 4,
  "nbformat_minor": 0,
  "metadata": {
    "colab": {
      "name": "HospitalReadmissionDiabetic.ipynb.txt",
      "provenance": [],
      "collapsed_sections": []
    },
    "kernelspec": {
      "name": "python3",
      "display_name": "Python 3"
    }
  },
  "cells": [
    {
      "cell_type": "code",
      "metadata": {
        "id": "fakycqk45zCC",
        "colab": {
          "base_uri": "https://localhost:8080/",
          "height": 71
        },
        "outputId": "06e9743c-8943-42f6-bd66-0a84c211b1b0"
      },
      "source": [
        "#Loading libraries \n",
        "import pandas as pd\n",
        "import numpy as np\n",
        "import matplotlib.pyplot as plt\n",
        "import seaborn as sns"
      ],
      "execution_count": null,
      "outputs": [
        {
          "output_type": "stream",
          "text": [
            "/usr/local/lib/python3.6/dist-packages/statsmodels/tools/_testing.py:19: FutureWarning: pandas.util.testing is deprecated. Use the functions in the public API at pandas.testing instead.\n",
            "  import pandas.util.testing as tm\n"
          ],
          "name": "stderr"
        }
      ]
    },
    {
      "cell_type": "markdown",
      "metadata": {
        "id": "44K5-v28-rH5"
      },
      "source": [
        "# New Section"
      ]
    },
    {
      "cell_type": "markdown",
      "metadata": {
        "id": "_lWSKdfwjd_V"
      },
      "source": [
        ""
      ]
    },
    {
      "cell_type": "markdown",
      "metadata": {
        "id": "cR_KlcRvN4ef"
      },
      "source": [
        "# New Section"
      ]
    },
    {
      "cell_type": "code",
      "metadata": {
        "id": "VAwJ_-8m6LxK",
        "colab": {
          "base_uri": "https://localhost:8080/",
          "height": 255
        },
        "outputId": "5e641ba5-de8a-4143-e782-943a46fd26a1"
      },
      "source": [
        "df = pd.read_excel('/content/sample_data/Dataset.xlsx')\n",
        "print (df.head)  "
      ],
      "execution_count": null,
      "outputs": [
        {
          "output_type": "stream",
          "text": [
            "<bound method NDFrame.head of     S.No  id      owner patient name  ...                date hb   bp        hname\n",
            "0      1   2     Rajesh        Sukla  ... 2018-07-12 15:21:28  3  160       Appolo\n",
            "1      2   2     Rajesh        Sukla  ... 2018-07-12 15:21:28  3  160       Appolo\n",
            "2      3   2     Rajesh        Sukla  ... 2018-08-12 13:26:49  3  160       Ochard\n",
            "3      4   3     Rajesh        Subbu  ... 2018-07-12 17:32:25  2  170       Appolo\n",
            "4      5   3     Rajesh        Subbu  ... 2018-07-12 17:56:54  2  170       Appolo\n",
            "..   ...  ..        ...          ...  ...                 ... ..  ...          ...\n",
            "70    71  43     Rajesh        Subbu  ... 2018-08-12 12:52:51  2  170       Appolo\n",
            "71    72  45  Manjunath        Shoba  ... 2018-07-12 17:52:33  4  180       Appolo\n",
            "72    73  45  Manjunath        Shoba  ... 2018-07-12 17:57:27  4  180       Appolo\n",
            "73    74  45  Manjunath        Shoba  ... 2018-08-12 12:55:20  4  180  Global Asia\n",
            "74    75  47    Sugumar       Naveen  ... 2018-08-12 13:26:01  3  170       Ochard\n",
            "\n",
            "[75 rows x 18 columns]>\n"
          ],
          "name": "stdout"
        }
      ]
    },
    {
      "cell_type": "code",
      "metadata": {
        "id": "pbSPLuJ16h8p",
        "colab": {
          "base_uri": "https://localhost:8080/",
          "height": 678
        },
        "outputId": "442451a0-d0b5-4adc-f33f-9d24b91cde0c"
      },
      "source": [
        "df = pd.read_excel('/content/sample_data/Dataset.xlsx')\n",
        "df.head(10).T"
      ],
      "execution_count": null,
      "outputs": [
        {
          "output_type": "execute_result",
          "data": {
            "text/html": [
              "<div>\n",
              "<style scoped>\n",
              "    .dataframe tbody tr th:only-of-type {\n",
              "        vertical-align: middle;\n",
              "    }\n",
              "\n",
              "    .dataframe tbody tr th {\n",
              "        vertical-align: top;\n",
              "    }\n",
              "\n",
              "    .dataframe thead th {\n",
              "        text-align: right;\n",
              "    }\n",
              "</style>\n",
              "<table border=\"1\" class=\"dataframe\">\n",
              "  <thead>\n",
              "    <tr style=\"text-align: right;\">\n",
              "      <th></th>\n",
              "      <th>0</th>\n",
              "      <th>1</th>\n",
              "      <th>2</th>\n",
              "      <th>3</th>\n",
              "      <th>4</th>\n",
              "      <th>5</th>\n",
              "      <th>6</th>\n",
              "      <th>7</th>\n",
              "      <th>8</th>\n",
              "      <th>9</th>\n",
              "    </tr>\n",
              "  </thead>\n",
              "  <tbody>\n",
              "    <tr>\n",
              "      <th>S.No</th>\n",
              "      <td>1</td>\n",
              "      <td>2</td>\n",
              "      <td>3</td>\n",
              "      <td>4</td>\n",
              "      <td>5</td>\n",
              "      <td>6</td>\n",
              "      <td>7</td>\n",
              "      <td>8</td>\n",
              "      <td>9</td>\n",
              "      <td>10</td>\n",
              "    </tr>\n",
              "    <tr>\n",
              "      <th>id</th>\n",
              "      <td>2</td>\n",
              "      <td>2</td>\n",
              "      <td>2</td>\n",
              "      <td>3</td>\n",
              "      <td>3</td>\n",
              "      <td>3</td>\n",
              "      <td>5</td>\n",
              "      <td>5</td>\n",
              "      <td>5</td>\n",
              "      <td>7</td>\n",
              "    </tr>\n",
              "    <tr>\n",
              "      <th>owner</th>\n",
              "      <td>Rajesh</td>\n",
              "      <td>Rajesh</td>\n",
              "      <td>Rajesh</td>\n",
              "      <td>Rajesh</td>\n",
              "      <td>Rajesh</td>\n",
              "      <td>Rajesh</td>\n",
              "      <td>Manjunath</td>\n",
              "      <td>Manjunath</td>\n",
              "      <td>Manjunath</td>\n",
              "      <td>Sugumar</td>\n",
              "    </tr>\n",
              "    <tr>\n",
              "      <th>patient name</th>\n",
              "      <td>Sukla</td>\n",
              "      <td>Sukla</td>\n",
              "      <td>Sukla</td>\n",
              "      <td>Subbu</td>\n",
              "      <td>Subbu</td>\n",
              "      <td>Subbu</td>\n",
              "      <td>Shoba</td>\n",
              "      <td>Shoba</td>\n",
              "      <td>Shoba</td>\n",
              "      <td>Naveen</td>\n",
              "    </tr>\n",
              "    <tr>\n",
              "      <th>blood group</th>\n",
              "      <td>AB+</td>\n",
              "      <td>AB+</td>\n",
              "      <td>AB+</td>\n",
              "      <td>AB+</td>\n",
              "      <td>AB+</td>\n",
              "      <td>AB+</td>\n",
              "      <td>B+</td>\n",
              "      <td>B+</td>\n",
              "      <td>B+</td>\n",
              "      <td>B+</td>\n",
              "    </tr>\n",
              "    <tr>\n",
              "      <th>disease</th>\n",
              "      <td>Diabetes</td>\n",
              "      <td>Diabetes</td>\n",
              "      <td>Diabetes</td>\n",
              "      <td>Dengue</td>\n",
              "      <td>Dengue</td>\n",
              "      <td>Dengue</td>\n",
              "      <td>Cancer</td>\n",
              "      <td>Cancer</td>\n",
              "      <td>Cancer</td>\n",
              "      <td>Cancer</td>\n",
              "    </tr>\n",
              "    <tr>\n",
              "      <th>age</th>\n",
              "      <td>50</td>\n",
              "      <td>50</td>\n",
              "      <td>50</td>\n",
              "      <td>34</td>\n",
              "      <td>34</td>\n",
              "      <td>34</td>\n",
              "      <td>45</td>\n",
              "      <td>45</td>\n",
              "      <td>45</td>\n",
              "      <td>45</td>\n",
              "    </tr>\n",
              "    <tr>\n",
              "      <th>dob</th>\n",
              "      <td>19850</td>\n",
              "      <td>19850</td>\n",
              "      <td>19850</td>\n",
              "      <td>30808</td>\n",
              "      <td>30808</td>\n",
              "      <td>30808</td>\n",
              "      <td>19/12/1973</td>\n",
              "      <td>19/12/1973</td>\n",
              "      <td>19/12/1973</td>\n",
              "      <td>19/12/1973</td>\n",
              "    </tr>\n",
              "    <tr>\n",
              "      <th>gender</th>\n",
              "      <td>Male</td>\n",
              "      <td>Male</td>\n",
              "      <td>Male</td>\n",
              "      <td>Male</td>\n",
              "      <td>Male</td>\n",
              "      <td>Male</td>\n",
              "      <td>Male</td>\n",
              "      <td>Male</td>\n",
              "      <td>Male</td>\n",
              "      <td>Male</td>\n",
              "    </tr>\n",
              "    <tr>\n",
              "      <th>mobile</th>\n",
              "      <td>9535866270</td>\n",
              "      <td>9535866270</td>\n",
              "      <td>9535866270</td>\n",
              "      <td>9535866270</td>\n",
              "      <td>9535866270</td>\n",
              "      <td>9535866270</td>\n",
              "      <td>9535866270</td>\n",
              "      <td>9535866270</td>\n",
              "      <td>9535866270</td>\n",
              "      <td>9535866270</td>\n",
              "    </tr>\n",
              "    <tr>\n",
              "      <th>email</th>\n",
              "      <td>tmksmanju13@gmail.com</td>\n",
              "      <td>tmksmanju13@gmail.com</td>\n",
              "      <td>tmksmanju13@gmail.com</td>\n",
              "      <td>tmksmanju13@gmail.com</td>\n",
              "      <td>tmksmanju13@gmail.com</td>\n",
              "      <td>tmksmanju13@gmail.com</td>\n",
              "      <td>tmksmanju13@gmail.com</td>\n",
              "      <td>tmksmanju13@gmail.com</td>\n",
              "      <td>tmksmanju13@gmail.com</td>\n",
              "      <td>tmksmanju11@gmail.com</td>\n",
              "    </tr>\n",
              "    <tr>\n",
              "      <th>city</th>\n",
              "      <td>Bangalore</td>\n",
              "      <td>Bangalore</td>\n",
              "      <td>Bangalore</td>\n",
              "      <td>Bangalore</td>\n",
              "      <td>Bangalore</td>\n",
              "      <td>Bangalore</td>\n",
              "      <td>Bangalore</td>\n",
              "      <td>Bangalore</td>\n",
              "      <td>Bangalore</td>\n",
              "      <td>Bangalore</td>\n",
              "    </tr>\n",
              "    <tr>\n",
              "      <th>address</th>\n",
              "      <td>#98,3rd Cross,Malleshwaram</td>\n",
              "      <td>#98,3rd Cross,Malleshwaram</td>\n",
              "      <td>#98,3rd Cross,Malleshwaram</td>\n",
              "      <td>Rajajinagar,bangalore</td>\n",
              "      <td>Rajajinagar,bangalore</td>\n",
              "      <td>Rajajinagar,bangalore</td>\n",
              "      <td>#3433,2nd Block,Rajajinagar</td>\n",
              "      <td>#3433,2nd Block,Rajajinagar</td>\n",
              "      <td>#3433,2nd Block,Malleshwaram</td>\n",
              "      <td>#8892,4th Main,Rajajinagar</td>\n",
              "    </tr>\n",
              "    <tr>\n",
              "      <th>pincode</th>\n",
              "      <td>560040</td>\n",
              "      <td>560040</td>\n",
              "      <td>560040</td>\n",
              "      <td>560001</td>\n",
              "      <td>560001</td>\n",
              "      <td>560001</td>\n",
              "      <td>560021</td>\n",
              "      <td>560021</td>\n",
              "      <td>560040</td>\n",
              "      <td>560021</td>\n",
              "    </tr>\n",
              "    <tr>\n",
              "      <th>date</th>\n",
              "      <td>2018-07-12 15:21:28</td>\n",
              "      <td>2018-07-12 15:21:28</td>\n",
              "      <td>2018-08-12 13:26:49</td>\n",
              "      <td>2018-07-12 17:32:25</td>\n",
              "      <td>2018-07-12 17:56:54</td>\n",
              "      <td>2018-08-12 12:52:51</td>\n",
              "      <td>2018-07-12 17:52:33</td>\n",
              "      <td>2018-07-12 17:57:27</td>\n",
              "      <td>2018-08-12 12:55:20</td>\n",
              "      <td>2018-08-12 13:26:01</td>\n",
              "    </tr>\n",
              "    <tr>\n",
              "      <th>hb</th>\n",
              "      <td>3</td>\n",
              "      <td>3</td>\n",
              "      <td>3</td>\n",
              "      <td>2</td>\n",
              "      <td>2</td>\n",
              "      <td>2</td>\n",
              "      <td>4</td>\n",
              "      <td>4</td>\n",
              "      <td>4</td>\n",
              "      <td>3</td>\n",
              "    </tr>\n",
              "    <tr>\n",
              "      <th>bp</th>\n",
              "      <td>160</td>\n",
              "      <td>160</td>\n",
              "      <td>160</td>\n",
              "      <td>170</td>\n",
              "      <td>170</td>\n",
              "      <td>170</td>\n",
              "      <td>180</td>\n",
              "      <td>180</td>\n",
              "      <td>180</td>\n",
              "      <td>170</td>\n",
              "    </tr>\n",
              "    <tr>\n",
              "      <th>hname</th>\n",
              "      <td>Appolo</td>\n",
              "      <td>Appolo</td>\n",
              "      <td>Ochard</td>\n",
              "      <td>Appolo</td>\n",
              "      <td>Appolo</td>\n",
              "      <td>Appolo</td>\n",
              "      <td>Appolo</td>\n",
              "      <td>Appolo</td>\n",
              "      <td>Global Asia</td>\n",
              "      <td>Ochard</td>\n",
              "    </tr>\n",
              "  </tbody>\n",
              "</table>\n",
              "</div>"
            ],
            "text/plain": [
              "                                       0  ...                           9\n",
              "S.No                                   1  ...                          10\n",
              "id                                     2  ...                           7\n",
              "owner                             Rajesh  ...                     Sugumar\n",
              "patient name                       Sukla  ...                      Naveen\n",
              "blood group                          AB+  ...                          B+\n",
              "disease                         Diabetes  ...                      Cancer\n",
              "age                                   50  ...                          45\n",
              "dob                                19850  ...                  19/12/1973\n",
              "gender                              Male  ...                        Male\n",
              "mobile                        9535866270  ...                  9535866270\n",
              "email              tmksmanju13@gmail.com  ...       tmksmanju11@gmail.com\n",
              "city                           Bangalore  ...                   Bangalore\n",
              "address       #98,3rd Cross,Malleshwaram  ...  #8892,4th Main,Rajajinagar\n",
              "pincode                           560040  ...                      560021\n",
              "date                 2018-07-12 15:21:28  ...         2018-08-12 13:26:01\n",
              "hb                                     3  ...                           3\n",
              "bp                                   160  ...                         170\n",
              "hname                             Appolo  ...                      Ochard\n",
              "\n",
              "[18 rows x 10 columns]"
            ]
          },
          "metadata": {
            "tags": []
          },
          "execution_count": 7
        }
      ]
    },
    {
      "cell_type": "code",
      "metadata": {
        "id": "lVPe6d3n7vsC",
        "colab": {
          "base_uri": "https://localhost:8080/",
          "height": 34
        },
        "outputId": "6638a793-c4a9-4073-b99f-84456062405a"
      },
      "source": [
        "#checking shape of the dataset\n",
        "df.shape"
      ],
      "execution_count": null,
      "outputs": [
        {
          "output_type": "execute_result",
          "data": {
            "text/plain": [
              "(75, 18)"
            ]
          },
          "metadata": {
            "tags": []
          },
          "execution_count": 3
        }
      ]
    },
    {
      "cell_type": "code",
      "metadata": {
        "id": "J6RZYKij73F_",
        "colab": {
          "base_uri": "https://localhost:8080/",
          "height": 340
        },
        "outputId": "3685065e-51e6-4b1a-b381-b11d56bbc2c6"
      },
      "source": [
        "#Checking data types of each variable\n",
        "df.dtypes"
      ],
      "execution_count": null,
      "outputs": [
        {
          "output_type": "execute_result",
          "data": {
            "text/plain": [
              "S.No                     int64\n",
              "id                       int64\n",
              "owner                   object\n",
              "patient name            object\n",
              "blood group             object\n",
              "disease                 object\n",
              "age                      int64\n",
              "dob                     object\n",
              "gender                  object\n",
              "mobile                   int64\n",
              "email                   object\n",
              "city                    object\n",
              "address                 object\n",
              "pincode                  int64\n",
              "date            datetime64[ns]\n",
              "hb                       int64\n",
              "bp                       int64\n",
              "hname                   object\n",
              "dtype: object"
            ]
          },
          "metadata": {
            "tags": []
          },
          "execution_count": 4
        }
      ]
    },
    {
      "cell_type": "code",
      "metadata": {
        "id": "lXTFv-RL79XO",
        "colab": {
          "base_uri": "https://localhost:8080/",
          "height": 187
        },
        "outputId": "5f84d48a-42e9-41c1-db2d-f839c9addf99"
      },
      "source": [
        "#Checking for missing values in dataset\n",
        "#In the dataset missing values are represented as '?' sign\n",
        "for col in df.columns:\n",
        "    if df[col].dtype == object:\n",
        "         print(col,df[col][df[col] == '?'].count())"
      ],
      "execution_count": null,
      "outputs": [
        {
          "output_type": "stream",
          "text": [
            "owner 0\n",
            "patient name 0\n",
            "blood group 0\n",
            "disease 0\n",
            "dob 0\n",
            "gender 0\n",
            "email 0\n",
            "city 0\n",
            "address 0\n",
            "hname 0\n"
          ],
          "name": "stdout"
        }
      ]
    },
    {
      "cell_type": "code",
      "metadata": {
        "id": "KICm3xOh8V0_",
        "colab": {
          "base_uri": "https://localhost:8080/",
          "height": 136
        },
        "outputId": "bc45f16d-698a-4812-c21f-c8a4083a8ad9"
      },
      "source": [
        "# code age intervals [0-10) - [90-100) from 1-10\n",
        "for i in range(0,10):\n",
        "    df['age'] = df['age'].replace('['+str(10*i)+'-'+str(10*(i+1))+')', i+1)\n",
        "df['age'].value_counts()"
      ],
      "execution_count": null,
      "outputs": [
        {
          "output_type": "execute_result",
          "data": {
            "text/plain": [
              "45    27\n",
              "34    18\n",
              "50    15\n",
              "48     5\n",
              "47     5\n",
              "46     5\n",
              "Name: age, dtype: int64"
            ]
          },
          "metadata": {
            "tags": []
          },
          "execution_count": 6
        }
      ]
    },
    {
      "cell_type": "code",
      "metadata": {
        "id": "MHDgYDrn8bcH",
        "colab": {
          "base_uri": "https://localhost:8080/",
          "height": 607
        },
        "outputId": "2d9dd6b0-7d6a-416c-d830-2a150a0803f7"
      },
      "source": [
        "df.head().T"
      ],
      "execution_count": null,
      "outputs": [
        {
          "output_type": "execute_result",
          "data": {
            "text/html": [
              "<div>\n",
              "<style scoped>\n",
              "    .dataframe tbody tr th:only-of-type {\n",
              "        vertical-align: middle;\n",
              "    }\n",
              "\n",
              "    .dataframe tbody tr th {\n",
              "        vertical-align: top;\n",
              "    }\n",
              "\n",
              "    .dataframe thead th {\n",
              "        text-align: right;\n",
              "    }\n",
              "</style>\n",
              "<table border=\"1\" class=\"dataframe\">\n",
              "  <thead>\n",
              "    <tr style=\"text-align: right;\">\n",
              "      <th></th>\n",
              "      <th>0</th>\n",
              "      <th>1</th>\n",
              "      <th>2</th>\n",
              "      <th>3</th>\n",
              "      <th>4</th>\n",
              "    </tr>\n",
              "  </thead>\n",
              "  <tbody>\n",
              "    <tr>\n",
              "      <th>S.No</th>\n",
              "      <td>1</td>\n",
              "      <td>2</td>\n",
              "      <td>3</td>\n",
              "      <td>4</td>\n",
              "      <td>5</td>\n",
              "    </tr>\n",
              "    <tr>\n",
              "      <th>id</th>\n",
              "      <td>2</td>\n",
              "      <td>2</td>\n",
              "      <td>2</td>\n",
              "      <td>3</td>\n",
              "      <td>3</td>\n",
              "    </tr>\n",
              "    <tr>\n",
              "      <th>owner</th>\n",
              "      <td>Rajesh</td>\n",
              "      <td>Rajesh</td>\n",
              "      <td>Rajesh</td>\n",
              "      <td>Rajesh</td>\n",
              "      <td>Rajesh</td>\n",
              "    </tr>\n",
              "    <tr>\n",
              "      <th>patient name</th>\n",
              "      <td>Sukla</td>\n",
              "      <td>Sukla</td>\n",
              "      <td>Sukla</td>\n",
              "      <td>Subbu</td>\n",
              "      <td>Subbu</td>\n",
              "    </tr>\n",
              "    <tr>\n",
              "      <th>blood group</th>\n",
              "      <td>AB+</td>\n",
              "      <td>AB+</td>\n",
              "      <td>AB+</td>\n",
              "      <td>AB+</td>\n",
              "      <td>AB+</td>\n",
              "    </tr>\n",
              "    <tr>\n",
              "      <th>disease</th>\n",
              "      <td>Diabetes</td>\n",
              "      <td>Diabetes</td>\n",
              "      <td>Diabetes</td>\n",
              "      <td>Dengue</td>\n",
              "      <td>Dengue</td>\n",
              "    </tr>\n",
              "    <tr>\n",
              "      <th>age</th>\n",
              "      <td>50</td>\n",
              "      <td>50</td>\n",
              "      <td>50</td>\n",
              "      <td>34</td>\n",
              "      <td>34</td>\n",
              "    </tr>\n",
              "    <tr>\n",
              "      <th>dob</th>\n",
              "      <td>19850</td>\n",
              "      <td>19850</td>\n",
              "      <td>19850</td>\n",
              "      <td>30808</td>\n",
              "      <td>30808</td>\n",
              "    </tr>\n",
              "    <tr>\n",
              "      <th>gender</th>\n",
              "      <td>Male</td>\n",
              "      <td>Male</td>\n",
              "      <td>Male</td>\n",
              "      <td>Male</td>\n",
              "      <td>Male</td>\n",
              "    </tr>\n",
              "    <tr>\n",
              "      <th>mobile</th>\n",
              "      <td>9535866270</td>\n",
              "      <td>9535866270</td>\n",
              "      <td>9535866270</td>\n",
              "      <td>9535866270</td>\n",
              "      <td>9535866270</td>\n",
              "    </tr>\n",
              "    <tr>\n",
              "      <th>email</th>\n",
              "      <td>tmksmanju13@gmail.com</td>\n",
              "      <td>tmksmanju13@gmail.com</td>\n",
              "      <td>tmksmanju13@gmail.com</td>\n",
              "      <td>tmksmanju13@gmail.com</td>\n",
              "      <td>tmksmanju13@gmail.com</td>\n",
              "    </tr>\n",
              "    <tr>\n",
              "      <th>city</th>\n",
              "      <td>Bangalore</td>\n",
              "      <td>Bangalore</td>\n",
              "      <td>Bangalore</td>\n",
              "      <td>Bangalore</td>\n",
              "      <td>Bangalore</td>\n",
              "    </tr>\n",
              "    <tr>\n",
              "      <th>address</th>\n",
              "      <td>#98,3rd Cross,Malleshwaram</td>\n",
              "      <td>#98,3rd Cross,Malleshwaram</td>\n",
              "      <td>#98,3rd Cross,Malleshwaram</td>\n",
              "      <td>Rajajinagar,bangalore</td>\n",
              "      <td>Rajajinagar,bangalore</td>\n",
              "    </tr>\n",
              "    <tr>\n",
              "      <th>pincode</th>\n",
              "      <td>560040</td>\n",
              "      <td>560040</td>\n",
              "      <td>560040</td>\n",
              "      <td>560001</td>\n",
              "      <td>560001</td>\n",
              "    </tr>\n",
              "    <tr>\n",
              "      <th>date</th>\n",
              "      <td>2018-07-12 15:21:28</td>\n",
              "      <td>2018-07-12 15:21:28</td>\n",
              "      <td>2018-08-12 13:26:49</td>\n",
              "      <td>2018-07-12 17:32:25</td>\n",
              "      <td>2018-07-12 17:56:54</td>\n",
              "    </tr>\n",
              "    <tr>\n",
              "      <th>hb</th>\n",
              "      <td>3</td>\n",
              "      <td>3</td>\n",
              "      <td>3</td>\n",
              "      <td>2</td>\n",
              "      <td>2</td>\n",
              "    </tr>\n",
              "    <tr>\n",
              "      <th>bp</th>\n",
              "      <td>160</td>\n",
              "      <td>160</td>\n",
              "      <td>160</td>\n",
              "      <td>170</td>\n",
              "      <td>170</td>\n",
              "    </tr>\n",
              "    <tr>\n",
              "      <th>hname</th>\n",
              "      <td>Appolo</td>\n",
              "      <td>Appolo</td>\n",
              "      <td>Ochard</td>\n",
              "      <td>Appolo</td>\n",
              "      <td>Appolo</td>\n",
              "    </tr>\n",
              "  </tbody>\n",
              "</table>\n",
              "</div>"
            ],
            "text/plain": [
              "                                       0  ...                      4\n",
              "S.No                                   1  ...                      5\n",
              "id                                     2  ...                      3\n",
              "owner                             Rajesh  ...                 Rajesh\n",
              "patient name                       Sukla  ...                  Subbu\n",
              "blood group                          AB+  ...                    AB+\n",
              "disease                         Diabetes  ...                 Dengue\n",
              "age                                   50  ...                     34\n",
              "dob                                19850  ...                  30808\n",
              "gender                              Male  ...                   Male\n",
              "mobile                        9535866270  ...             9535866270\n",
              "email              tmksmanju13@gmail.com  ...  tmksmanju13@gmail.com\n",
              "city                           Bangalore  ...              Bangalore\n",
              "address       #98,3rd Cross,Malleshwaram  ...  Rajajinagar,bangalore\n",
              "pincode                           560040  ...                 560001\n",
              "date                 2018-07-12 15:21:28  ...    2018-07-12 17:56:54\n",
              "hb                                     3  ...                      2\n",
              "bp                                   160  ...                    170\n",
              "hname                             Appolo  ...                 Appolo\n",
              "\n",
              "[18 rows x 5 columns]"
            ]
          },
          "metadata": {
            "tags": []
          },
          "execution_count": 7
        }
      ]
    },
    {
      "cell_type": "code",
      "metadata": {
        "id": "2-c3r_jODcai",
        "colab": {
          "base_uri": "https://localhost:8080/",
          "height": 667
        },
        "outputId": "2eed34e1-fd79-47c7-c617-e62dbdb726ce"
      },
      "source": [
        "df = pd.read_excel('/content/sample_data/Emergency.xlsx')\n",
        "df.head(10).T"
      ],
      "execution_count": null,
      "outputs": [
        {
          "output_type": "execute_result",
          "data": {
            "text/html": [
              "<div>\n",
              "<style scoped>\n",
              "    .dataframe tbody tr th:only-of-type {\n",
              "        vertical-align: middle;\n",
              "    }\n",
              "\n",
              "    .dataframe tbody tr th {\n",
              "        vertical-align: top;\n",
              "    }\n",
              "\n",
              "    .dataframe thead th {\n",
              "        text-align: right;\n",
              "    }\n",
              "</style>\n",
              "<table border=\"1\" class=\"dataframe\">\n",
              "  <thead>\n",
              "    <tr style=\"text-align: right;\">\n",
              "      <th></th>\n",
              "      <th>0</th>\n",
              "      <th>1</th>\n",
              "      <th>2</th>\n",
              "      <th>3</th>\n",
              "      <th>4</th>\n",
              "      <th>5</th>\n",
              "      <th>6</th>\n",
              "      <th>7</th>\n",
              "      <th>8</th>\n",
              "      <th>9</th>\n",
              "    </tr>\n",
              "  </thead>\n",
              "  <tbody>\n",
              "    <tr>\n",
              "      <th>PID</th>\n",
              "      <td>5</td>\n",
              "      <td>5</td>\n",
              "      <td>2</td>\n",
              "      <td>2</td>\n",
              "      <td>3</td>\n",
              "      <td>3</td>\n",
              "      <td>3</td>\n",
              "      <td>12</td>\n",
              "      <td>15</td>\n",
              "      <td>17</td>\n",
              "    </tr>\n",
              "    <tr>\n",
              "      <th>Patient Name</th>\n",
              "      <td>Shoba</td>\n",
              "      <td>Shoba</td>\n",
              "      <td>Sukla</td>\n",
              "      <td>Sukla</td>\n",
              "      <td>Subbu</td>\n",
              "      <td>Subbu</td>\n",
              "      <td>Subbu</td>\n",
              "      <td>Sanmugam</td>\n",
              "      <td>Shoba1</td>\n",
              "      <td>Naveen1</td>\n",
              "    </tr>\n",
              "    <tr>\n",
              "      <th>Blood Group</th>\n",
              "      <td>B+</td>\n",
              "      <td>B+</td>\n",
              "      <td>AB+</td>\n",
              "      <td>AB+</td>\n",
              "      <td>AB+</td>\n",
              "      <td>AB+</td>\n",
              "      <td>AB+</td>\n",
              "      <td>B+</td>\n",
              "      <td>B+</td>\n",
              "      <td>B+</td>\n",
              "    </tr>\n",
              "    <tr>\n",
              "      <th>Disease</th>\n",
              "      <td>Cancer</td>\n",
              "      <td>Cancer</td>\n",
              "      <td>Diabetes</td>\n",
              "      <td>Diabetes</td>\n",
              "      <td>Dengue</td>\n",
              "      <td>Dengue</td>\n",
              "      <td>Dengue</td>\n",
              "      <td>Dengue</td>\n",
              "      <td>Cancer</td>\n",
              "      <td>Cancer</td>\n",
              "    </tr>\n",
              "    <tr>\n",
              "      <th>Age</th>\n",
              "      <td>45</td>\n",
              "      <td>45</td>\n",
              "      <td>50</td>\n",
              "      <td>50</td>\n",
              "      <td>34</td>\n",
              "      <td>34</td>\n",
              "      <td>34</td>\n",
              "      <td>34</td>\n",
              "      <td>45</td>\n",
              "      <td>45</td>\n",
              "    </tr>\n",
              "    <tr>\n",
              "      <th>DOB</th>\n",
              "      <td>19/12/1973</td>\n",
              "      <td>19/12/1973</td>\n",
              "      <td>19850</td>\n",
              "      <td>19850</td>\n",
              "      <td>30808</td>\n",
              "      <td>30808</td>\n",
              "      <td>30808</td>\n",
              "      <td>30808</td>\n",
              "      <td>19/12/1973</td>\n",
              "      <td>19/12/1973</td>\n",
              "    </tr>\n",
              "    <tr>\n",
              "      <th>Gender</th>\n",
              "      <td>Male</td>\n",
              "      <td>Male</td>\n",
              "      <td>Male</td>\n",
              "      <td>Male</td>\n",
              "      <td>Male</td>\n",
              "      <td>Male</td>\n",
              "      <td>Male</td>\n",
              "      <td>Male</td>\n",
              "      <td>Male</td>\n",
              "      <td>Male</td>\n",
              "    </tr>\n",
              "    <tr>\n",
              "      <th>Mobile</th>\n",
              "      <td>9535866270</td>\n",
              "      <td>9535866270</td>\n",
              "      <td>9535866270</td>\n",
              "      <td>9535866270</td>\n",
              "      <td>9535866270</td>\n",
              "      <td>9535866270</td>\n",
              "      <td>9535866270</td>\n",
              "      <td>9535866270</td>\n",
              "      <td>9535866270</td>\n",
              "      <td>9535866270</td>\n",
              "    </tr>\n",
              "    <tr>\n",
              "      <th>EMail</th>\n",
              "      <td>tmksmanju13@gmail.com</td>\n",
              "      <td>tmksmanju13@gmail.com</td>\n",
              "      <td>tmksmanju13@gmail.com</td>\n",
              "      <td>tmksmanju13@gmail.com</td>\n",
              "      <td>tmksmanju13@gmail.com</td>\n",
              "      <td>tmksmanju13@gmail.com</td>\n",
              "      <td>tmksmanju13@gmail.com</td>\n",
              "      <td>tmksmanju13@gmail.com</td>\n",
              "      <td>tmksmanju13@gmail.com</td>\n",
              "      <td>tmksmanju11@gmail.com</td>\n",
              "    </tr>\n",
              "    <tr>\n",
              "      <th>City</th>\n",
              "      <td>Bangalore</td>\n",
              "      <td>Bangalore</td>\n",
              "      <td>Bangalore</td>\n",
              "      <td>Bangalore</td>\n",
              "      <td>Bangalore</td>\n",
              "      <td>Bangalore</td>\n",
              "      <td>Bangalore</td>\n",
              "      <td>Bangalore</td>\n",
              "      <td>Bangalore</td>\n",
              "      <td>Bangalore</td>\n",
              "    </tr>\n",
              "    <tr>\n",
              "      <th>Address</th>\n",
              "      <td>#3433,2nd Block,Rajajinagar</td>\n",
              "      <td>#3433,2nd Block,Rajajinagar</td>\n",
              "      <td>#98,3rd Cross,Malleshwaram</td>\n",
              "      <td>#98,3rd Cross,Malleshwaram</td>\n",
              "      <td>Rajajinagar,bangalore</td>\n",
              "      <td>Rajajinagar,bangalore</td>\n",
              "      <td>Rajajinagar,bangalore</td>\n",
              "      <td>Rajajinagar,bangalore</td>\n",
              "      <td>#3433,2nd Block,Rajajinagar</td>\n",
              "      <td>#8892,4th Main,Rajajinagar</td>\n",
              "    </tr>\n",
              "    <tr>\n",
              "      <th>Pincode</th>\n",
              "      <td>560021</td>\n",
              "      <td>560021</td>\n",
              "      <td>560040</td>\n",
              "      <td>560040</td>\n",
              "      <td>560001</td>\n",
              "      <td>560001</td>\n",
              "      <td>560001</td>\n",
              "      <td>560001</td>\n",
              "      <td>560021</td>\n",
              "      <td>560021</td>\n",
              "    </tr>\n",
              "    <tr>\n",
              "      <th>Admited Date</th>\n",
              "      <td>2018-07-12 17:52:33</td>\n",
              "      <td>2018-07-12 17:57:27</td>\n",
              "      <td>2018-07-12 15:21:28</td>\n",
              "      <td>2018-07-12 15:21:28</td>\n",
              "      <td>2018-07-12 17:32:25</td>\n",
              "      <td>2018-07-12 17:56:54</td>\n",
              "      <td>2018-08-12 12:52:51</td>\n",
              "      <td>2018-07-12 17:32:25</td>\n",
              "      <td>2018-07-12 17:52:33</td>\n",
              "      <td>2018-08-12 13:26:01</td>\n",
              "    </tr>\n",
              "    <tr>\n",
              "      <th>Heart Beat</th>\n",
              "      <td>4</td>\n",
              "      <td>4</td>\n",
              "      <td>3</td>\n",
              "      <td>3</td>\n",
              "      <td>2</td>\n",
              "      <td>2</td>\n",
              "      <td>2</td>\n",
              "      <td>2</td>\n",
              "      <td>4</td>\n",
              "      <td>3</td>\n",
              "    </tr>\n",
              "    <tr>\n",
              "      <th>Blood Pressure</th>\n",
              "      <td>180</td>\n",
              "      <td>180</td>\n",
              "      <td>160</td>\n",
              "      <td>160</td>\n",
              "      <td>170</td>\n",
              "      <td>170</td>\n",
              "      <td>170</td>\n",
              "      <td>170</td>\n",
              "      <td>180</td>\n",
              "      <td>170</td>\n",
              "    </tr>\n",
              "    <tr>\n",
              "      <th>Readmitted count</th>\n",
              "      <td>2</td>\n",
              "      <td>2</td>\n",
              "      <td>3</td>\n",
              "      <td>3</td>\n",
              "      <td>3</td>\n",
              "      <td>3</td>\n",
              "      <td>3</td>\n",
              "      <td>2</td>\n",
              "      <td>2</td>\n",
              "      <td>4</td>\n",
              "    </tr>\n",
              "  </tbody>\n",
              "</table>\n",
              "</div>"
            ],
            "text/plain": [
              "                                            0  ...                           9\n",
              "PID                                         5  ...                          17\n",
              "Patient Name                            Shoba  ...                     Naveen1\n",
              "Blood Group                                B+  ...                          B+\n",
              "Disease                                Cancer  ...                      Cancer\n",
              "Age                                        45  ...                          45\n",
              "DOB                                19/12/1973  ...                  19/12/1973\n",
              "Gender                                   Male  ...                        Male\n",
              "Mobile                             9535866270  ...                  9535866270\n",
              "EMail                   tmksmanju13@gmail.com  ...       tmksmanju11@gmail.com\n",
              "City                                Bangalore  ...                   Bangalore\n",
              "Address           #3433,2nd Block,Rajajinagar  ...  #8892,4th Main,Rajajinagar\n",
              "Pincode                                560021  ...                      560021\n",
              "Admited Date              2018-07-12 17:52:33  ...         2018-08-12 13:26:01\n",
              "Heart Beat                                  4  ...                           3\n",
              "Blood Pressure                            180  ...                         170\n",
              "Readmitted count                            2  ...                           4\n",
              "\n",
              "[16 rows x 10 columns]"
            ]
          },
          "metadata": {
            "tags": []
          },
          "execution_count": 8
        }
      ]
    },
    {
      "cell_type": "code",
      "metadata": {
        "id": "7-lTdf2FYDf0",
        "colab": {
          "base_uri": "https://localhost:8080/",
          "height": 122
        },
        "outputId": "ef5fbb81-e3b2-4aa2-d755-5ad2b78fabc8"
      },
      "source": [
        "from google.colab import drive\n",
        "drive.mount('/content/drive')"
      ],
      "execution_count": null,
      "outputs": [
        {
          "output_type": "stream",
          "text": [
            "Go to this URL in a browser: https://accounts.google.com/o/oauth2/auth?client_id=947318989803-6bn6qk8qdgf4n4g3pfee6491hc0brc4i.apps.googleusercontent.com&redirect_uri=urn%3aietf%3awg%3aoauth%3a2.0%3aoob&response_type=code&scope=email%20https%3a%2f%2fwww.googleapis.com%2fauth%2fdocs.test%20https%3a%2f%2fwww.googleapis.com%2fauth%2fdrive%20https%3a%2f%2fwww.googleapis.com%2fauth%2fdrive.photos.readonly%20https%3a%2f%2fwww.googleapis.com%2fauth%2fpeopleapi.readonly\n",
            "\n",
            "Enter your authorization code:\n",
            "··········\n",
            "Mounted at /content/drive\n"
          ],
          "name": "stdout"
        }
      ]
    },
    {
      "cell_type": "code",
      "metadata": {
        "id": "_HdZDqnRDs3C"
      },
      "source": [
        "feature_set = ['PID','Patient Name','Disease','Age','Heart Beat','Blood Pressure']"
      ],
      "execution_count": null,
      "outputs": []
    },
    {
      "cell_type": "code",
      "metadata": {
        "id": "yoZ4kh2zERCA",
        "colab": {
          "base_uri": "https://localhost:8080/",
          "height": 136
        },
        "outputId": "1d6b86be-bd15-461c-928a-196986764f64"
      },
      "source": [
        "X = df[feature_set]\n",
        "y = df['Readmitted count']\n",
        "df['Readmitted count'].value_counts()"
      ],
      "execution_count": null,
      "outputs": [
        {
          "output_type": "execute_result",
          "data": {
            "text/plain": [
              "2    17\n",
              "3    15\n",
              "1     5\n",
              "6     3\n",
              "5     3\n",
              "4     2\n",
              "Name: Readmitted count, dtype: int64"
            ]
          },
          "metadata": {
            "tags": []
          },
          "execution_count": 13
        }
      ]
    },
    {
      "cell_type": "code",
      "metadata": {
        "id": "F8N-YPtmJ3Ak",
        "colab": {
          "base_uri": "https://localhost:8080/",
          "height": 68
        },
        "outputId": "4d2d67d4-126a-4cb0-aaff-00de7616ef70"
      },
      "source": [
        "%matplotlib inline\n",
        "import pandas as pd\n",
        "import numpy as np\n",
        "import matplotlib.pyplot as plt\n",
        "import seaborn as sns\n",
        "diabetes = pd.read_csv('/content/sample_data/diabetes.csv')\n",
        "diabetes.columns "
      ],
      "execution_count": null,
      "outputs": [
        {
          "output_type": "execute_result",
          "data": {
            "text/plain": [
              "Index(['Pregnancies', 'Glucose', 'BloodPressure', 'SkinThickness', 'Insulin',\n",
              "       'BMI', 'DiabetesPedigreeFunction', 'Age', 'Outcome'],\n",
              "      dtype='object')"
            ]
          },
          "metadata": {
            "tags": []
          },
          "execution_count": 14
        }
      ]
    },
    {
      "cell_type": "code",
      "metadata": {
        "id": "eynlfZTHKe9x",
        "colab": {
          "base_uri": "https://localhost:8080/",
          "height": 204
        },
        "outputId": "db0b0877-9fc1-4d93-cb8f-588c62d17816"
      },
      "source": [
        "diabetes.head()"
      ],
      "execution_count": null,
      "outputs": [
        {
          "output_type": "execute_result",
          "data": {
            "text/html": [
              "<div>\n",
              "<style scoped>\n",
              "    .dataframe tbody tr th:only-of-type {\n",
              "        vertical-align: middle;\n",
              "    }\n",
              "\n",
              "    .dataframe tbody tr th {\n",
              "        vertical-align: top;\n",
              "    }\n",
              "\n",
              "    .dataframe thead th {\n",
              "        text-align: right;\n",
              "    }\n",
              "</style>\n",
              "<table border=\"1\" class=\"dataframe\">\n",
              "  <thead>\n",
              "    <tr style=\"text-align: right;\">\n",
              "      <th></th>\n",
              "      <th>Pregnancies</th>\n",
              "      <th>Glucose</th>\n",
              "      <th>BloodPressure</th>\n",
              "      <th>SkinThickness</th>\n",
              "      <th>Insulin</th>\n",
              "      <th>BMI</th>\n",
              "      <th>DiabetesPedigreeFunction</th>\n",
              "      <th>Age</th>\n",
              "      <th>Outcome</th>\n",
              "    </tr>\n",
              "  </thead>\n",
              "  <tbody>\n",
              "    <tr>\n",
              "      <th>0</th>\n",
              "      <td>6</td>\n",
              "      <td>148</td>\n",
              "      <td>72</td>\n",
              "      <td>35</td>\n",
              "      <td>0</td>\n",
              "      <td>33.6</td>\n",
              "      <td>0.627</td>\n",
              "      <td>50</td>\n",
              "      <td>1</td>\n",
              "    </tr>\n",
              "    <tr>\n",
              "      <th>1</th>\n",
              "      <td>1</td>\n",
              "      <td>85</td>\n",
              "      <td>66</td>\n",
              "      <td>29</td>\n",
              "      <td>0</td>\n",
              "      <td>26.6</td>\n",
              "      <td>0.351</td>\n",
              "      <td>31</td>\n",
              "      <td>0</td>\n",
              "    </tr>\n",
              "    <tr>\n",
              "      <th>2</th>\n",
              "      <td>8</td>\n",
              "      <td>183</td>\n",
              "      <td>64</td>\n",
              "      <td>0</td>\n",
              "      <td>0</td>\n",
              "      <td>23.3</td>\n",
              "      <td>0.672</td>\n",
              "      <td>32</td>\n",
              "      <td>1</td>\n",
              "    </tr>\n",
              "    <tr>\n",
              "      <th>3</th>\n",
              "      <td>1</td>\n",
              "      <td>89</td>\n",
              "      <td>66</td>\n",
              "      <td>23</td>\n",
              "      <td>94</td>\n",
              "      <td>28.1</td>\n",
              "      <td>0.167</td>\n",
              "      <td>21</td>\n",
              "      <td>0</td>\n",
              "    </tr>\n",
              "    <tr>\n",
              "      <th>4</th>\n",
              "      <td>0</td>\n",
              "      <td>137</td>\n",
              "      <td>40</td>\n",
              "      <td>35</td>\n",
              "      <td>168</td>\n",
              "      <td>43.1</td>\n",
              "      <td>2.288</td>\n",
              "      <td>33</td>\n",
              "      <td>1</td>\n",
              "    </tr>\n",
              "  </tbody>\n",
              "</table>\n",
              "</div>"
            ],
            "text/plain": [
              "   Pregnancies  Glucose  BloodPressure  ...  DiabetesPedigreeFunction  Age  Outcome\n",
              "0            6      148             72  ...                     0.627   50        1\n",
              "1            1       85             66  ...                     0.351   31        0\n",
              "2            8      183             64  ...                     0.672   32        1\n",
              "3            1       89             66  ...                     0.167   21        0\n",
              "4            0      137             40  ...                     2.288   33        1\n",
              "\n",
              "[5 rows x 9 columns]"
            ]
          },
          "metadata": {
            "tags": []
          },
          "execution_count": 15
        }
      ]
    },
    {
      "cell_type": "code",
      "metadata": {
        "id": "HFcOZ_yiKkCR",
        "colab": {
          "base_uri": "https://localhost:8080/",
          "height": 34
        },
        "outputId": "83244e3c-3556-4af3-8e8f-c0fc9378d09b"
      },
      "source": [
        "print(\"Diabetes data set dimensions : {}\".format(diabetes.shape))"
      ],
      "execution_count": null,
      "outputs": [
        {
          "output_type": "stream",
          "text": [
            "Diabetes data set dimensions : (768, 9)\n"
          ],
          "name": "stdout"
        }
      ]
    },
    {
      "cell_type": "code",
      "metadata": {
        "id": "oFTH_rFjKoLT",
        "colab": {
          "base_uri": "https://localhost:8080/",
          "height": 85
        },
        "outputId": "ca409cda-7e10-4ca8-ca02-535ffdf6fd08"
      },
      "source": [
        "diabetes.groupby('Outcome').size()"
      ],
      "execution_count": null,
      "outputs": [
        {
          "output_type": "execute_result",
          "data": {
            "text/plain": [
              "Outcome\n",
              "0    500\n",
              "1    268\n",
              "dtype: int64"
            ]
          },
          "metadata": {
            "tags": []
          },
          "execution_count": 17
        }
      ]
    },
    {
      "cell_type": "code",
      "metadata": {
        "id": "i2iwyQ58Kt9A",
        "colab": {
          "base_uri": "https://localhost:8080/",
          "height": 1000
        },
        "outputId": "b312c0a3-e2d9-4bdb-9873-648b2472686b"
      },
      "source": [
        "diabetes.groupby('Outcome').hist(figsize=(9, 9))"
      ],
      "execution_count": null,
      "outputs": [
        {
          "output_type": "execute_result",
          "data": {
            "text/plain": [
              "Outcome\n",
              "0    [[AxesSubplot(0.125,0.670278;0.215278x0.209722...\n",
              "1    [[AxesSubplot(0.125,0.670278;0.215278x0.209722...\n",
              "dtype: object"
            ]
          },
          "metadata": {
            "tags": []
          },
          "execution_count": 18
        },
        {
          "output_type": "display_data",
          "data": {
            "image/png": "[encoded data removed]",
            "text/plain": [
              "<Figure size 648x648 with 9 Axes>"
            ]
          },
          "metadata": {
            "tags": [],
            "needs_background": "light"
          }
        },
        {
          "output_type": "display_data",
          "data": {
            "image/png": "[encoded data removed]",
            "text/plain": [
              "<Figure size 648x648 with 9 Axes>"
            ]
          },
          "metadata": {
            "tags": [],
            "needs_background": "light"
          }
        }
      ]
    },
    {
      "cell_type": "code",
      "metadata": {
        "id": "DAbwkutkK3Gg",
        "colab": {
          "base_uri": "https://localhost:8080/",
          "height": 187
        },
        "outputId": "950b5ba8-9bee-4bb3-a55c-edee6ef6caec"
      },
      "source": [
        "#Data cleaning\n",
        "diabetes.isnull().sum()\n",
        "diabetes.isna().sum()"
      ],
      "execution_count": null,
      "outputs": [
        {
          "output_type": "execute_result",
          "data": {
            "text/plain": [
              "Pregnancies                 0\n",
              "Glucose                     0\n",
              "BloodPressure               0\n",
              "SkinThickness               0\n",
              "Insulin                     0\n",
              "BMI                         0\n",
              "DiabetesPedigreeFunction    0\n",
              "Age                         0\n",
              "Outcome                     0\n",
              "dtype: int64"
            ]
          },
          "metadata": {
            "tags": []
          },
          "execution_count": 19
        }
      ]
    },
    {
      "cell_type": "code",
      "metadata": {
        "id": "WGKQEeCvLOL-",
        "colab": {
          "base_uri": "https://localhost:8080/",
          "height": 34
        },
        "outputId": "720b16ab-d49b-4ea0-98e5-f1cf62db9f76"
      },
      "source": [
        "diabetes_mod = diabetes[(diabetes.BloodPressure != 0) & (diabetes.BMI != 0) & (diabetes.Glucose != 0)]\n",
        "print(diabetes_mod.shape)"
      ],
      "execution_count": null,
      "outputs": [
        {
          "output_type": "stream",
          "text": [
            "(724, 9)\n"
          ],
          "name": "stdout"
        }
      ]
    },
    {
      "cell_type": "code",
      "metadata": {
        "id": "PKJyVwb7LRmq"
      },
      "source": [
        "feature_names = ['Pregnancies', 'Glucose', 'BloodPressure', 'SkinThickness', 'Insulin', 'BMI', 'DiabetesPedigreeFunction', 'Age']\n",
        "X = diabetes_mod[feature_names]\n",
        "y = diabetes_mod.Outcome"
      ],
      "execution_count": null,
      "outputs": []
    },
    {
      "cell_type": "code",
      "metadata": {
        "id": "yCdeJ0zTLVZx"
      },
      "source": [
        "from sklearn.neighbors import KNeighborsClassifier\n",
        "from sklearn.svm import SVC\n",
        "from sklearn.linear_model import LogisticRegression\n",
        "from sklearn.tree import DecisionTreeClassifier\n",
        "from sklearn.naive_bayes import GaussianNB\n",
        "from sklearn.ensemble import RandomForestClassifier\n",
        "from sklearn.ensemble import GradientBoostingClassifier"
      ],
      "execution_count": null,
      "outputs": []
    },
    {
      "cell_type": "code",
      "metadata": {
        "id": "FaXSoxKSLYjE"
      },
      "source": [
        "models = []\n",
        "models.append(('KNN', KNeighborsClassifier()))\n",
        "models.append(('SVC', SVC()))\n",
        "models.append(('LR', LogisticRegression()))\n",
        "models.append(('DT', DecisionTreeClassifier()))\n",
        "models.append(('GNB', GaussianNB()))\n",
        "models.append(('RF', RandomForestClassifier()))\n",
        "models.append(('GB', GradientBoostingClassifier()))"
      ],
      "execution_count": null,
      "outputs": []
    },
    {
      "cell_type": "code",
      "metadata": {
        "id": "MNvcb-6vLdgy"
      },
      "source": [
        "from sklearn.model_selection import train_test_split\n",
        "from sklearn.model_selection import cross_val_score\n",
        "from sklearn.metrics import accuracy_score"
      ],
      "execution_count": null,
      "outputs": []
    },
    {
      "cell_type": "code",
      "metadata": {
        "id": "8TweSlLHLhmf"
      },
      "source": [
        "X_train, X_test, y_train, y_test = train_test_split(X, y, stratify = diabetes_mod.Outcome, random_state=0)"
      ],
      "execution_count": null,
      "outputs": []
    },
    {
      "cell_type": "code",
      "metadata": {
        "id": "20oHBV5PLkyU",
        "colab": {
          "base_uri": "https://localhost:8080/",
          "height": 289
        },
        "outputId": "eb4d1075-afed-43a5-96bf-eb27f29effe0"
      },
      "source": [
        "names = []\n",
        "scores = []\n",
        "for name, model in models:\n",
        "    model.fit(X_train, y_train)\n",
        "    y_pred = model.predict(X_test)\n",
        "    scores.append(accuracy_score(y_test, y_pred))\n",
        "    names.append(name)\n",
        "tr_split = pd.DataFrame({'Name': names, 'Score': scores})\n",
        "print(tr_split)"
      ],
      "execution_count": null,
      "outputs": [
        {
          "output_type": "stream",
          "text": [
            "/usr/local/lib/python3.6/dist-packages/sklearn/linear_model/_logistic.py:940: ConvergenceWarning: lbfgs failed to converge (status=1):\n",
            "STOP: TOTAL NO. of ITERATIONS REACHED LIMIT.\n",
            "\n",
            "Increase the number of iterations (max_iter) or scale the data as shown in:\n",
            "    https://scikit-learn.org/stable/modules/preprocessing.html\n",
            "Please also refer to the documentation for alternative solver options:\n",
            "    https://scikit-learn.org/stable/modules/linear_model.html#logistic-regression\n",
            "  extra_warning_msg=_LOGISTIC_SOLVER_CONVERGENCE_MSG)\n"
          ],
          "name": "stderr"
        },
        {
          "output_type": "stream",
          "text": [
            "  Name     Score\n",
            "0  KNN  0.729282\n",
            "1  SVC  0.740331\n",
            "2   LR  0.762431\n",
            "3   DT  0.734807\n",
            "4  GNB  0.734807\n",
            "5   RF  0.790055\n",
            "6   GB  0.779006\n"
          ],
          "name": "stdout"
        }
      ]
    },
    {
      "cell_type": "code",
      "metadata": {
        "id": "6KTepnTTMHPz",
        "colab": {
          "base_uri": "https://localhost:8080/",
          "height": 1000
        },
        "outputId": "39045fe0-78a6-4628-e66f-2ab96a487a5f"
      },
      "source": [
        "import numpy as np\n",
        "from sklearn.model_selection import KFold\n",
        "names = []\n",
        "scores = []\n",
        "for name, model in models:\n",
        "    \n",
        "    kfold = KFold(n_splits=10, random_state=10) \n",
        "    score = cross_val_score(model, X, y, cv=kfold, scoring='accuracy').mean()\n",
        "    \n",
        "    names.append(name)\n",
        "    scores.append(score)\n",
        "kf_cross_val = pd.DataFrame({'Name': names, 'Score': scores})\n",
        "print(kf_cross_val)"
      ],
      "execution_count": null,
      "outputs": [
        {
          "output_type": "stream",
          "text": [
            "/usr/local/lib/python3.6/dist-packages/sklearn/model_selection/_split.py:296: FutureWarning: Setting a random_state has no effect since shuffle is False. This will raise an error in 0.24. You should leave random_state to its default (None), or set shuffle=True.\n",
            "  FutureWarning\n",
            "/usr/local/lib/python3.6/dist-packages/sklearn/model_selection/_split.py:296: FutureWarning: Setting a random_state has no effect since shuffle is False. This will raise an error in 0.24. You should leave random_state to its default (None), or set shuffle=True.\n",
            "  FutureWarning\n",
            "/usr/local/lib/python3.6/dist-packages/sklearn/model_selection/_split.py:296: FutureWarning: Setting a random_state has no effect since shuffle is False. This will raise an error in 0.24. You should leave random_state to its default (None), or set shuffle=True.\n",
            "  FutureWarning\n",
            "/usr/local/lib/python3.6/dist-packages/sklearn/linear_model/_logistic.py:940: ConvergenceWarning: lbfgs failed to converge (status=1):\n",
            "STOP: TOTAL NO. of ITERATIONS REACHED LIMIT.\n",
            "\n",
            "Increase the number of iterations (max_iter) or scale the data as shown in:\n",
            "    https://scikit-learn.org/stable/modules/preprocessing.html\n",
            "Please also refer to the documentation for alternative solver options:\n",
            "    https://scikit-learn.org/stable/modules/linear_model.html#logistic-regression\n",
            "  extra_warning_msg=_LOGISTIC_SOLVER_CONVERGENCE_MSG)\n",
            "/usr/local/lib/python3.6/dist-packages/sklearn/linear_model/_logistic.py:940: ConvergenceWarning: lbfgs failed to converge (status=1):\n",
            "STOP: TOTAL NO. of ITERATIONS REACHED LIMIT.\n",
            "\n",
            "Increase the number of iterations (max_iter) or scale the data as shown in:\n",
            "    https://scikit-learn.org/stable/modules/preprocessing.html\n",
            "Please also refer to the documentation for alternative solver options:\n",
            "    https://scikit-learn.org/stable/modules/linear_model.html#logistic-regression\n",
            "  extra_warning_msg=_LOGISTIC_SOLVER_CONVERGENCE_MSG)\n",
            "/usr/local/lib/python3.6/dist-packages/sklearn/linear_model/_logistic.py:940: ConvergenceWarning: lbfgs failed to converge (status=1):\n",
            "STOP: TOTAL NO. of ITERATIONS REACHED LIMIT.\n",
            "\n",
            "Increase the number of iterations (max_iter) or scale the data as shown in:\n",
            "    https://scikit-learn.org/stable/modules/preprocessing.html\n",
            "Please also refer to the documentation for alternative solver options:\n",
            "    https://scikit-learn.org/stable/modules/linear_model.html#logistic-regression\n",
            "  extra_warning_msg=_LOGISTIC_SOLVER_CONVERGENCE_MSG)\n",
            "/usr/local/lib/python3.6/dist-packages/sklearn/linear_model/_logistic.py:940: ConvergenceWarning: lbfgs failed to converge (status=1):\n",
            "STOP: TOTAL NO. of ITERATIONS REACHED LIMIT.\n",
            "\n",
            "Increase the number of iterations (max_iter) or scale the data as shown in:\n",
            "    https://scikit-learn.org/stable/modules/preprocessing.html\n",
            "Please also refer to the documentation for alternative solver options:\n",
            "    https://scikit-learn.org/stable/modules/linear_model.html#logistic-regression\n",
            "  extra_warning_msg=_LOGISTIC_SOLVER_CONVERGENCE_MSG)\n",
            "/usr/local/lib/python3.6/dist-packages/sklearn/linear_model/_logistic.py:940: ConvergenceWarning: lbfgs failed to converge (status=1):\n",
            "STOP: TOTAL NO. of ITERATIONS REACHED LIMIT.\n",
            "\n",
            "Increase the number of iterations (max_iter) or scale the data as shown in:\n",
            "    https://scikit-learn.org/stable/modules/preprocessing.html\n",
            "Please also refer to the documentation for alternative solver options:\n",
            "    https://scikit-learn.org/stable/modules/linear_model.html#logistic-regression\n",
            "  extra_warning_msg=_LOGISTIC_SOLVER_CONVERGENCE_MSG)\n",
            "/usr/local/lib/python3.6/dist-packages/sklearn/linear_model/_logistic.py:940: ConvergenceWarning: lbfgs failed to converge (status=1):\n",
            "STOP: TOTAL NO. of ITERATIONS REACHED LIMIT.\n",
            "\n",
            "Increase the number of iterations (max_iter) or scale the data as shown in:\n",
            "    https://scikit-learn.org/stable/modules/preprocessing.html\n",
            "Please also refer to the documentation for alternative solver options:\n",
            "    https://scikit-learn.org/stable/modules/linear_model.html#logistic-regression\n",
            "  extra_warning_msg=_LOGISTIC_SOLVER_CONVERGENCE_MSG)\n",
            "/usr/local/lib/python3.6/dist-packages/sklearn/linear_model/_logistic.py:940: ConvergenceWarning: lbfgs failed to converge (status=1):\n",
            "STOP: TOTAL NO. of ITERATIONS REACHED LIMIT.\n",
            "\n",
            "Increase the number of iterations (max_iter) or scale the data as shown in:\n",
            "    https://scikit-learn.org/stable/modules/preprocessing.html\n",
            "Please also refer to the documentation for alternative solver options:\n",
            "    https://scikit-learn.org/stable/modules/linear_model.html#logistic-regression\n",
            "  extra_warning_msg=_LOGISTIC_SOLVER_CONVERGENCE_MSG)\n",
            "/usr/local/lib/python3.6/dist-packages/sklearn/linear_model/_logistic.py:940: ConvergenceWarning: lbfgs failed to converge (status=1):\n",
            "STOP: TOTAL NO. of ITERATIONS REACHED LIMIT.\n",
            "\n",
            "Increase the number of iterations (max_iter) or scale the data as shown in:\n",
            "    https://scikit-learn.org/stable/modules/preprocessing.html\n",
            "Please also refer to the documentation for alternative solver options:\n",
            "    https://scikit-learn.org/stable/modules/linear_model.html#logistic-regression\n",
            "  extra_warning_msg=_LOGISTIC_SOLVER_CONVERGENCE_MSG)\n",
            "/usr/local/lib/python3.6/dist-packages/sklearn/linear_model/_logistic.py:940: ConvergenceWarning: lbfgs failed to converge (status=1):\n",
            "STOP: TOTAL NO. of ITERATIONS REACHED LIMIT.\n",
            "\n",
            "Increase the number of iterations (max_iter) or scale the data as shown in:\n",
            "    https://scikit-learn.org/stable/modules/preprocessing.html\n",
            "Please also refer to the documentation for alternative solver options:\n",
            "    https://scikit-learn.org/stable/modules/linear_model.html#logistic-regression\n",
            "  extra_warning_msg=_LOGISTIC_SOLVER_CONVERGENCE_MSG)\n",
            "/usr/local/lib/python3.6/dist-packages/sklearn/linear_model/_logistic.py:940: ConvergenceWarning: lbfgs failed to converge (status=1):\n",
            "STOP: TOTAL NO. of ITERATIONS REACHED LIMIT.\n",
            "\n",
            "Increase the number of iterations (max_iter) or scale the data as shown in:\n",
            "    https://scikit-learn.org/stable/modules/preprocessing.html\n",
            "Please also refer to the documentation for alternative solver options:\n",
            "    https://scikit-learn.org/stable/modules/linear_model.html#logistic-regression\n",
            "  extra_warning_msg=_LOGISTIC_SOLVER_CONVERGENCE_MSG)\n",
            "/usr/local/lib/python3.6/dist-packages/sklearn/model_selection/_split.py:296: FutureWarning: Setting a random_state has no effect since shuffle is False. This will raise an error in 0.24. You should leave random_state to its default (None), or set shuffle=True.\n",
            "  FutureWarning\n",
            "/usr/local/lib/python3.6/dist-packages/sklearn/model_selection/_split.py:296: FutureWarning: Setting a random_state has no effect since shuffle is False. This will raise an error in 0.24. You should leave random_state to its default (None), or set shuffle=True.\n",
            "  FutureWarning\n",
            "/usr/local/lib/python3.6/dist-packages/sklearn/model_selection/_split.py:296: FutureWarning: Setting a random_state has no effect since shuffle is False. This will raise an error in 0.24. You should leave random_state to its default (None), or set shuffle=True.\n",
            "  FutureWarning\n",
            "/usr/local/lib/python3.6/dist-packages/sklearn/model_selection/_split.py:296: FutureWarning: Setting a random_state has no effect since shuffle is False. This will raise an error in 0.24. You should leave random_state to its default (None), or set shuffle=True.\n",
            "  FutureWarning\n"
          ],
          "name": "stderr"
        },
        {
          "output_type": "stream",
          "text": [
            "  Name     Score\n",
            "0  KNN  0.719787\n",
            "1  SVC  0.758581\n",
            "2   LR  0.766667\n",
            "3   DT  0.704490\n",
            "4  GNB  0.757021\n",
            "5   RF  0.771005\n",
            "6   GB  0.775038\n"
          ],
          "name": "stdout"
        }
      ]
    },
    {
      "cell_type": "code",
      "metadata": {
        "id": "ZY9n3esQMI4w",
        "colab": {
          "base_uri": "https://localhost:8080/",
          "height": 280
        },
        "outputId": "e188bd42-7cb7-451a-87b3-7e34ad976e7b"
      },
      "source": [
        "axis = sns.barplot(x = 'Name', y = 'Score', data = kf_cross_val)\n",
        "axis.set(xlabel='Classifier', ylabel='Accuracy')\n",
        "for p in axis.patches:\n",
        "    height = p.get_height()\n",
        "    axis.text(p.get_x() + p.get_width()/2, height + 0.005, '{:1.4f}'.format(height), ha=\"center\") \n",
        "    \n",
        "plt.show()"
      ],
      "execution_count": null,
      "outputs": [
        {
          "output_type": "display_data",
          "data": {
            "image/png": "[encoded data removed]",
            "text/plain": [
              "<Figure size 432x288 with 1 Axes>"
            ]
          },
          "metadata": {
            "tags": [],
            "needs_background": "light"
          }
        }
      ]
    },
    {
      "cell_type": "markdown",
      "metadata": {
        "id": "yzIxhCoENZo4"
      },
      "source": [
        "# New Section"
      ]
    }
  ]
}